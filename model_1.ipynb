{
 "cells": [
  {
   "cell_type": "code",
   "execution_count": 1,
   "metadata": {},
   "outputs": [
    {
     "name": "stdout",
     "output_type": "stream",
     "text": [
      "<bound method NDFrame.describe of         Mean       Std      skew       kurt    zcr  Negative  Positive  \\\n",
      "0   -0.03170  0.238631  1.669290  13.772643   8125   29205.0     19778   \n",
      "1   -0.03990  0.238227  1.767346  15.575317   8109   29883.0     19100   \n",
      "2   -0.03619  0.233956  2.054477  19.289000   7629   30691.0     18292   \n",
      "3   -0.04270  0.229507  1.893025  14.514906   7858   29591.0     19392   \n",
      "4   -0.04253  0.223480  2.032298  15.586533   7024   29953.0     19030   \n",
      "..       ...       ...       ...        ...    ...       ...       ...   \n",
      "795 -0.03889  0.136246 -0.706945   6.850523  11630   31290.0     17693   \n",
      "796 -0.03858  0.132444 -0.555816   7.440042  11920   31260.0     17723   \n",
      "797 -0.04193  0.157063 -0.530123   7.656655  11730   31673.0     17310   \n",
      "798 -0.03959  0.137075 -0.285148   8.793275  11158   31282.0     17701   \n",
      "799 -0.03879  0.139415 -0.720221   7.687124  11550   31986.0     17701   \n",
      "\n",
      "        Ratio  Target  \n",
      "0    1.476641       0  \n",
      "1    1.564555       0  \n",
      "2    1.677837       0  \n",
      "3    1.525939       0  \n",
      "4    1.573988       0  \n",
      "..        ...     ...  \n",
      "795  1.768496       7  \n",
      "796  1.763810       7  \n",
      "797  1.829752       7  \n",
      "798  1.767245       7  \n",
      "799  1.767245       7  \n",
      "\n",
      "[800 rows x 9 columns]>\n"
     ]
    }
   ],
   "source": [
    "import pandas as pd\n",
    "dfm = pd.read_csv(\"results_final.csv\")\n",
    "\n",
    "print(dfm.describe)\n"
   ]
  },
  {
   "cell_type": "code",
   "execution_count": 2,
   "metadata": {},
   "outputs": [
    {
     "data": {
      "text/html": [
       "<div>\n",
       "<style scoped>\n",
       "    .dataframe tbody tr th:only-of-type {\n",
       "        vertical-align: middle;\n",
       "    }\n",
       "\n",
       "    .dataframe tbody tr th {\n",
       "        vertical-align: top;\n",
       "    }\n",
       "\n",
       "    .dataframe thead th {\n",
       "        text-align: right;\n",
       "    }\n",
       "</style>\n",
       "<table border=\"1\" class=\"dataframe\">\n",
       "  <thead>\n",
       "    <tr style=\"text-align: right;\">\n",
       "      <th></th>\n",
       "      <th>Mean</th>\n",
       "      <th>Std</th>\n",
       "      <th>skew</th>\n",
       "      <th>kurt</th>\n",
       "      <th>zcr</th>\n",
       "      <th>Ratio</th>\n",
       "      <th>Target</th>\n",
       "    </tr>\n",
       "  </thead>\n",
       "  <tbody>\n",
       "    <tr>\n",
       "      <th>0</th>\n",
       "      <td>-0.03170</td>\n",
       "      <td>0.238631</td>\n",
       "      <td>1.669290</td>\n",
       "      <td>13.772643</td>\n",
       "      <td>8125</td>\n",
       "      <td>1.476641</td>\n",
       "      <td>0</td>\n",
       "    </tr>\n",
       "    <tr>\n",
       "      <th>1</th>\n",
       "      <td>-0.03990</td>\n",
       "      <td>0.238227</td>\n",
       "      <td>1.767346</td>\n",
       "      <td>15.575317</td>\n",
       "      <td>8109</td>\n",
       "      <td>1.564555</td>\n",
       "      <td>0</td>\n",
       "    </tr>\n",
       "    <tr>\n",
       "      <th>2</th>\n",
       "      <td>-0.03619</td>\n",
       "      <td>0.233956</td>\n",
       "      <td>2.054477</td>\n",
       "      <td>19.289000</td>\n",
       "      <td>7629</td>\n",
       "      <td>1.677837</td>\n",
       "      <td>0</td>\n",
       "    </tr>\n",
       "    <tr>\n",
       "      <th>3</th>\n",
       "      <td>-0.04270</td>\n",
       "      <td>0.229507</td>\n",
       "      <td>1.893025</td>\n",
       "      <td>14.514906</td>\n",
       "      <td>7858</td>\n",
       "      <td>1.525939</td>\n",
       "      <td>0</td>\n",
       "    </tr>\n",
       "    <tr>\n",
       "      <th>4</th>\n",
       "      <td>-0.04253</td>\n",
       "      <td>0.223480</td>\n",
       "      <td>2.032298</td>\n",
       "      <td>15.586533</td>\n",
       "      <td>7024</td>\n",
       "      <td>1.573988</td>\n",
       "      <td>0</td>\n",
       "    </tr>\n",
       "    <tr>\n",
       "      <th>...</th>\n",
       "      <td>...</td>\n",
       "      <td>...</td>\n",
       "      <td>...</td>\n",
       "      <td>...</td>\n",
       "      <td>...</td>\n",
       "      <td>...</td>\n",
       "      <td>...</td>\n",
       "    </tr>\n",
       "    <tr>\n",
       "      <th>795</th>\n",
       "      <td>-0.03889</td>\n",
       "      <td>0.136246</td>\n",
       "      <td>-0.706945</td>\n",
       "      <td>6.850523</td>\n",
       "      <td>11630</td>\n",
       "      <td>1.768496</td>\n",
       "      <td>7</td>\n",
       "    </tr>\n",
       "    <tr>\n",
       "      <th>796</th>\n",
       "      <td>-0.03858</td>\n",
       "      <td>0.132444</td>\n",
       "      <td>-0.555816</td>\n",
       "      <td>7.440042</td>\n",
       "      <td>11920</td>\n",
       "      <td>1.763810</td>\n",
       "      <td>7</td>\n",
       "    </tr>\n",
       "    <tr>\n",
       "      <th>797</th>\n",
       "      <td>-0.04193</td>\n",
       "      <td>0.157063</td>\n",
       "      <td>-0.530123</td>\n",
       "      <td>7.656655</td>\n",
       "      <td>11730</td>\n",
       "      <td>1.829752</td>\n",
       "      <td>7</td>\n",
       "    </tr>\n",
       "    <tr>\n",
       "      <th>798</th>\n",
       "      <td>-0.03959</td>\n",
       "      <td>0.137075</td>\n",
       "      <td>-0.285148</td>\n",
       "      <td>8.793275</td>\n",
       "      <td>11158</td>\n",
       "      <td>1.767245</td>\n",
       "      <td>7</td>\n",
       "    </tr>\n",
       "    <tr>\n",
       "      <th>799</th>\n",
       "      <td>-0.03879</td>\n",
       "      <td>0.139415</td>\n",
       "      <td>-0.720221</td>\n",
       "      <td>7.687124</td>\n",
       "      <td>11550</td>\n",
       "      <td>1.767245</td>\n",
       "      <td>7</td>\n",
       "    </tr>\n",
       "  </tbody>\n",
       "</table>\n",
       "<p>800 rows × 7 columns</p>\n",
       "</div>"
      ],
      "text/plain": [
       "        Mean       Std      skew       kurt    zcr     Ratio  Target\n",
       "0   -0.03170  0.238631  1.669290  13.772643   8125  1.476641       0\n",
       "1   -0.03990  0.238227  1.767346  15.575317   8109  1.564555       0\n",
       "2   -0.03619  0.233956  2.054477  19.289000   7629  1.677837       0\n",
       "3   -0.04270  0.229507  1.893025  14.514906   7858  1.525939       0\n",
       "4   -0.04253  0.223480  2.032298  15.586533   7024  1.573988       0\n",
       "..       ...       ...       ...        ...    ...       ...     ...\n",
       "795 -0.03889  0.136246 -0.706945   6.850523  11630  1.768496       7\n",
       "796 -0.03858  0.132444 -0.555816   7.440042  11920  1.763810       7\n",
       "797 -0.04193  0.157063 -0.530123   7.656655  11730  1.829752       7\n",
       "798 -0.03959  0.137075 -0.285148   8.793275  11158  1.767245       7\n",
       "799 -0.03879  0.139415 -0.720221   7.687124  11550  1.767245       7\n",
       "\n",
       "[800 rows x 7 columns]"
      ]
     },
     "execution_count": 2,
     "metadata": {},
     "output_type": "execute_result"
    }
   ],
   "source": [
    "dfm = dfm.drop('Positive',axis='columns')\n",
    "dfm = dfm.drop('Negative',axis='columns')\n",
    "dfm"
   ]
  },
  {
   "cell_type": "code",
   "execution_count": 3,
   "metadata": {},
   "outputs": [
    {
     "data": {
      "text/plain": [
       "Mean      float64\n",
       "Std       float64\n",
       "skew      float64\n",
       "kurt      float64\n",
       "zcr         int64\n",
       "Ratio     float64\n",
       "Target      int64\n",
       "dtype: object"
      ]
     },
     "execution_count": 3,
     "metadata": {},
     "output_type": "execute_result"
    }
   ],
   "source": [
    "dfm.dtypes"
   ]
  },
  {
   "cell_type": "markdown",
   "metadata": {},
   "source": [
    "dfm = dfm.drop('Mean',axis='columns')\n",
    "dfm"
   ]
  },
  {
   "cell_type": "code",
   "execution_count": 4,
   "metadata": {},
   "outputs": [],
   "source": [
    "X = dfm.drop('Target',axis='columns')\n",
    "y = dfm.Target"
   ]
  },
  {
   "cell_type": "code",
   "execution_count": 5,
   "metadata": {},
   "outputs": [
    {
     "data": {
      "text/plain": [
       "array([[ 2.43098071,  1.17458732,  0.24404994,  0.48536876, -0.60411018,\n",
       "        -1.65761528],\n",
       "       [-0.41335682,  1.16776583,  0.34154149,  0.80961834, -0.61375508,\n",
       "        -1.4081152 ],\n",
       "       [ 0.87353248,  1.09558592,  0.62702178,  1.47760366, -0.90310226,\n",
       "        -1.08662071],\n",
       "       ...,\n",
       "       [-1.11750379, -0.20364573, -1.94271637, -0.61472265,  1.56900765,\n",
       "        -0.655489  ],\n",
       "       [-0.30582699, -0.54137725, -1.69914949, -0.41027723,  1.22420227,\n",
       "        -0.83288288],\n",
       "       [-0.02833064, -0.50185264, -2.1317212 , -0.60924205,  1.46050246,\n",
       "        -0.83288288]])"
      ]
     },
     "execution_count": 5,
     "metadata": {},
     "output_type": "execute_result"
    }
   ],
   "source": [
    "from sklearn.preprocessing import StandardScaler\n",
    "scaler = StandardScaler()\n",
    "\n",
    "X_scaled = scaler.fit_transform(X)\n",
    "X_scaled"
   ]
  },
  {
   "cell_type": "code",
   "execution_count": 6,
   "metadata": {},
   "outputs": [
    {
     "data": {
      "text/plain": [
       "array([[ 2.43098071,  1.17458732,  0.24404994,  0.48536876, -0.60411018,\n",
       "        -1.65761528],\n",
       "       [-0.41335682,  1.16776583,  0.34154149,  0.80961834, -0.61375508,\n",
       "        -1.4081152 ],\n",
       "       [ 0.87353248,  1.09558592,  0.62702178,  1.47760366, -0.90310226,\n",
       "        -1.08662071],\n",
       "       ...,\n",
       "       [-1.11750379, -0.20364573, -1.94271637, -0.61472265,  1.56900765,\n",
       "        -0.655489  ],\n",
       "       [-0.30582699, -0.54137725, -1.69914949, -0.41027723,  1.22420227,\n",
       "        -0.83288288],\n",
       "       [-0.02833064, -0.50185264, -2.1317212 , -0.60924205,  1.46050246,\n",
       "        -0.83288288]])"
      ]
     },
     "execution_count": 6,
     "metadata": {},
     "output_type": "execute_result"
    }
   ],
   "source": [
    "from sklearn.preprocessing import StandardScaler\n",
    "scaler = StandardScaler()\n",
    "\n",
    "X_scaled = scaler.fit_transform(X)\n",
    "X_scaled"
   ]
  },
  {
   "cell_type": "code",
   "execution_count": 7,
   "metadata": {},
   "outputs": [],
   "source": [
    "from prettytable import PrettyTable\n",
    "tab = PrettyTable()\n",
    "tab.title = 'ML Model Scores with different splits'\n",
    "tab.field_names = ['Split Ratio', 'Decision tree', 'Logistic Regression', 'Naive Bayes', 'KNC', 'RFC', 'SVC']"
   ]
  },
  {
   "cell_type": "code",
   "execution_count": 8,
   "metadata": {},
   "outputs": [],
   "source": [
    "from sklearn.model_selection import train_test_split\n",
    "from sklearn.model_selection import cross_val_score\n",
    "from sklearn.neighbors import KNeighborsClassifier\n",
    "from sklearn.ensemble import RandomForestClassifier\n",
    "from sklearn.svm import SVC\n",
    "from  sklearn.naive_bayes import GaussianNB\n",
    "from sklearn.linear_model import LogisticRegression\n",
    "from sklearn import tree\n",
    "\n",
    "splits = [0.1, 0.2, 0.3]\n",
    "\n",
    "for split in splits:\n",
    "    X_train, X_test, y_train, y_test = train_test_split(X_scaled, y, test_size = split, random_state = 40)\n",
    "\n",
    "    model_knn = KNeighborsClassifier(n_neighbors=13)\n",
    "    model_knn.fit(X_train, y_train)\n",
    "    knnscore = model_knn.score(X_test, y_test)\n",
    "\n",
    "    model_rfc = RandomForestClassifier(n_estimators=800)\n",
    "    model_rfc.fit(X_train, y_train)\n",
    "    rfcscore = model_rfc.score(X_test, y_test)\n",
    "\n",
    "    model_svc = SVC(C=36, kernel=\"rbf\")\n",
    "    model_svc.fit(X_train, y_train)\n",
    "    svcscore = model_svc.score(X_test, y_test)\n",
    "\n",
    "    model_nb = GaussianNB()\n",
    "    model_nb.fit(X_train, y_train)\n",
    "    nbscore = model_nb.score(X_test, y_test)\n",
    "\n",
    "    model_lr = LogisticRegression()\n",
    "    model_lr.fit(X_train, y_train)\n",
    "    lrscore = model_lr.score(X_test, y_test)\n",
    "\n",
    "    model_dt = tree.DecisionTreeClassifier()\n",
    "    model_dt.fit(X_train, y_train)\n",
    "    dtscore = model_dt.score(X_test, y_test)\n",
    "\n",
    "    tab.add_row([f\"Split: {split}\", dtscore, lrscore, nbscore, knnscore, rfcscore, svcscore])"
   ]
  },
  {
   "cell_type": "code",
   "execution_count": 9,
   "metadata": {},
   "outputs": [
    {
     "name": "stdout",
     "output_type": "stream",
     "text": [
      "+-------------------------------------------------------------------------------------------------------------------------------------+\n",
      "|                                                ML Model Scores with different splits                                                |\n",
      "+-------------+--------------------+---------------------+-------------+--------------------+--------------------+--------------------+\n",
      "| Split Ratio |   Decision tree    | Logistic Regression | Naive Bayes |        KNC         |        RFC         |        SVC         |\n",
      "+-------------+--------------------+---------------------+-------------+--------------------+--------------------+--------------------+\n",
      "|  Split: 0.1 |       0.725        |        0.775        |    0.775    |       0.7375       |        0.9         |       0.825        |\n",
      "|  Split: 0.2 |        0.8         |        0.7625       |    0.7875   |       0.825        |      0.89375       |      0.83125       |\n",
      "|  Split: 0.3 | 0.8083333333333333 |  0.7791666666666667 |    0.7875   | 0.8291666666666667 | 0.8666666666666667 | 0.8291666666666667 |\n",
      "+-------------+--------------------+---------------------+-------------+--------------------+--------------------+--------------------+\n"
     ]
    }
   ],
   "source": [
    "print(tab)"
   ]
  },
  {
   "cell_type": "code",
   "execution_count": 10,
   "metadata": {},
   "outputs": [],
   "source": [
    "from sklearn.metrics import confusion_matrix\n",
    "\n",
    "y_pred_dt = model_dt.predict(X_test)\n",
    "y_pred_lr = model_lr.predict(X_test)\n",
    "y_pred_nb = model_nb.predict(X_test)\n",
    "y_pred_knn = model_knn.predict(X_test)\n",
    "y_pred_rfc = model_rfc.predict(X_test)\n",
    "y_pred_svc = model_svc.predict(X_test)\n",
    "\n",
    "cm_dt = confusion_matrix(y_test, y_pred_dt)\n",
    "cm_lr = confusion_matrix(y_test, y_pred_lr)\n",
    "cm_nb = confusion_matrix(y_test, y_pred_nb)\n",
    "cm_knn = confusion_matrix(y_test, y_pred_knn)\n",
    "cm_rfc = confusion_matrix(y_test, y_pred_rfc)\n",
    "cm_svc = confusion_matrix(y_test, y_pred_svc)\n"
   ]
  },
  {
   "cell_type": "code",
   "execution_count": 11,
   "metadata": {},
   "outputs": [
    {
     "data": {
      "text/plain": [
       "Text(0.5, 1.0, 'Naive Bayes')"
      ]
     },
     "execution_count": 11,
     "metadata": {},
     "output_type": "execute_result"
    },
    {
     "data": {
      "image/png": "[encoded data removed]",
      "text/plain": [
       "<Figure size 1152x288 with 6 Axes>"
      ]
     },
     "metadata": {
      "needs_background": "light"
     },
     "output_type": "display_data"
    }
   ],
   "source": [
    "%matplotlib inline\n",
    "import matplotlib.pyplot as plt\n",
    "import seaborn as sn\n",
    "\n",
    "plt.figure(figsize=(16,4))\n",
    "\n",
    "plt.subplot(131)\n",
    "sn.heatmap(cm_dt, annot=True)\n",
    "plt.xlabel('Predicted')\n",
    "plt.ylabel('Truth')\n",
    "plt.title('Decision Tree')\n",
    "\n",
    "plt.subplot(132)\n",
    "sn.heatmap(cm_lr, annot=True)\n",
    "plt.xlabel('Predicted')\n",
    "plt.ylabel('Truth')\n",
    "plt.title('Logistic Regression')\n",
    "\n",
    "plt.subplot(133)\n",
    "sn.heatmap(cm_nb, annot=True)\n",
    "plt.xlabel('Predicted')\n",
    "plt.ylabel('Truth')\n",
    "plt.title('Naive Bayes')\n"
   ]
  },
  {
   "cell_type": "code",
   "execution_count": 12,
   "metadata": {},
   "outputs": [
    {
     "data": {
      "text/plain": [
       "Text(0.5, 1.0, 'SVMClassifier')"
      ]
     },
     "execution_count": 12,
     "metadata": {},
     "output_type": "execute_result"
    },
    {
     "data": {
      "image/png": "[encoded data removed]",
      "text/plain": [
       "<Figure size 1152x288 with 6 Axes>"
      ]
     },
     "metadata": {
      "needs_background": "light"
     },
     "output_type": "display_data"
    }
   ],
   "source": [
    "%matplotlib inline\n",
    "import matplotlib.pyplot as plt\n",
    "import seaborn as sn\n",
    "\n",
    "plt.figure(figsize=(16,4))\n",
    "\n",
    "plt.subplot(131)\n",
    "sn.heatmap(cm_knn, annot=True)\n",
    "plt.xlabel('Predicted')\n",
    "plt.ylabel('Truth')\n",
    "plt.title('KNNClassifier')\n",
    "\n",
    "plt.subplot(132)\n",
    "sn.heatmap(cm_rfc, annot=True)\n",
    "plt.xlabel('Predicted')\n",
    "plt.ylabel('Truth')\n",
    "plt.title('RandomForestClassifier')\n",
    "\n",
    "plt.subplot(133)\n",
    "sn.heatmap(cm_svc, annot=True)\n",
    "plt.xlabel('Predicted')\n",
    "plt.ylabel('Truth')\n",
    "plt.title('SVMClassifier')"
   ]
  }
 ],
 "metadata": {
  "kernelspec": {
   "display_name": "Python 3",
   "language": "python",
   "name": "python3"
  },
  "language_info": {
   "codemirror_mode": {
    "name": "ipython",
    "version": 3
   },
   "file_extension": ".py",
   "mimetype": "text/x-python",
   "name": "python",
   "nbconvert_exporter": "python",
   "pygments_lexer": "ipython3",
   "version": "3.10.5"
  },
  "orig_nbformat": 4,
  "vscode": {
   "interpreter": {
    "hash": "961786f95080325d0e6977461e5717a534591674bb0d89c293c3449765d31696"
   }
  }
 },
 "nbformat": 4,
 "nbformat_minor": 2
}
